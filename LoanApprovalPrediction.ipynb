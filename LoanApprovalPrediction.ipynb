{
  "nbformat": 4,
  "nbformat_minor": 0,
  "metadata": {
    "colab": {
      "provenance": [],
      "collapsed_sections": []
    },
    "kernelspec": {
      "name": "python3",
      "display_name": "Python 3"
    },
    "language_info": {
      "name": "python"
    }
  },
  "cells": [
    {
      "cell_type": "markdown",
      "source": [
        "#### Importing the Basics"
      ],
      "metadata": {
        "id": "EZyvawbAiNXf"
      }
    },
    {
      "cell_type": "code",
      "source": [
        "import numpy as np\n",
        "import pandas as pd\n",
        "import matplotlib.pyplot as plt\n",
        "import seaborn as sns\n",
        "from sklearn import svm, metrics"
      ],
      "metadata": {
        "id": "bJyOgRJUiMnt"
      },
      "execution_count": 173,
      "outputs": []
    },
    {
      "cell_type": "markdown",
      "source": [
        "#### Reading the data and creating additional Colunms"
      ],
      "metadata": {
        "id": "kG-iP2tzg4__"
      }
    },
    {
      "cell_type": "code",
      "source": [
        "df = pd.read_csv(\"loan.csv\")\n",
        "df['LoanAmount_log'] = np.log(df['LoanAmount'])\n",
        "df['TotalIncome'] = df['ApplicantIncome'] + df['CoapplicantIncome']\n",
        "df['TotalIncome_log'] = np.log(df['TotalIncome'])"
      ],
      "metadata": {
        "id": "9qgDmsXJVn7v"
      },
      "execution_count": 174,
      "outputs": []
    },
    {
      "cell_type": "markdown",
      "source": [
        "#### Checking cells for missing values and filling them"
      ],
      "metadata": {
        "id": "HHmUYFcBhB2n"
      }
    },
    {
      "cell_type": "code",
      "source": [
        "df.isnull().sum()\n",
        "df['Gender'].fillna(df['Gender'].mode()[0], inplace=True)\n",
        "df['Married'].fillna(df['Married'].mode()[0], inplace=True)\n",
        "df['Self_Employed'].fillna(df['Self_Employed'].mode()[0], inplace=True)\n",
        "df['Dependents'].fillna(df['Dependents'].mode()[0], inplace=True)\n",
        "df['Loan_Amount_Term'].fillna(df['Loan_Amount_Term'].mode()[0], inplace=True)\n",
        "df['Credit_History'].fillna(df['Credit_History'].mode()[0], inplace=True)\n",
        "\n",
        "df.LoanAmount = df.LoanAmount.fillna(df.LoanAmount.mean())\n",
        "df.LoanAmount_log = df.LoanAmount_log.fillna(df.LoanAmount.mean())\n",
        "df.isnull().sum()"
      ],
      "metadata": {
        "colab": {
          "base_uri": "https://localhost:8080/"
        },
        "id": "psnTKX6Fe--N",
        "outputId": "54637b99-3958-481c-871e-85bc16c946cf"
      },
      "execution_count": 175,
      "outputs": [
        {
          "output_type": "execute_result",
          "data": {
            "text/plain": [
              "Loan_ID              0\n",
              "Gender               0\n",
              "Married              0\n",
              "Dependents           0\n",
              "Education            0\n",
              "Self_Employed        0\n",
              "ApplicantIncome      0\n",
              "CoapplicantIncome    0\n",
              "LoanAmount           0\n",
              "Loan_Amount_Term     0\n",
              "Credit_History       0\n",
              "Property_Area        0\n",
              "Loan_Status          0\n",
              "LoanAmount_log       0\n",
              "TotalIncome          0\n",
              "TotalIncome_log      0\n",
              "dtype: int64"
            ]
          },
          "metadata": {},
          "execution_count": 175
        }
      ]
    },
    {
      "cell_type": "markdown",
      "source": [
        "#### Selecting input & output values"
      ],
      "metadata": {
        "id": "sH_bMVowo09J"
      }
    },
    {
      "cell_type": "code",
      "source": [
        "X = df.iloc[:, np.r_[1:5, 9:11, 13:15]].values\n",
        "y = df.iloc[:, 12].values"
      ],
      "metadata": {
        "id": "C5lVLaroo7cg"
      },
      "execution_count": 176,
      "outputs": []
    },
    {
      "cell_type": "markdown",
      "source": [
        "#### Grouping Number of people by Gender"
      ],
      "metadata": {
        "id": "SqLb91kOtPQ3"
      }
    },
    {
      "cell_type": "code",
      "source": [
        "print(df.groupby(['Loan_Status'])['Gender'].count())\n",
        "sns.countplot(x='Gender', data=df, palette='Set1')\n",
        "plt.show()"
      ],
      "metadata": {
        "colab": {
          "base_uri": "https://localhost:8080/",
          "height": 348
        },
        "id": "Do43Xs0isMmq",
        "outputId": "51c4c7d7-ed44-486c-d55c-4cd9cb6d9b5f"
      },
      "execution_count": 177,
      "outputs": [
        {
          "output_type": "stream",
          "name": "stdout",
          "text": [
            "Loan_Status\n",
            "N    192\n",
            "Y    422\n",
            "Name: Gender, dtype: int64\n"
          ]
        },
        {
          "output_type": "display_data",
          "data": {
            "text/plain": [
              "<Figure size 432x288 with 1 Axes>"
            ],
            "image/png": "[encoded data removed]"
          },
          "metadata": {
            "needs_background": "light"
          }
        }
      ]
    },
    {
      "cell_type": "markdown",
      "source": [
        "#### Grouping Number of people by Marital Status"
      ],
      "metadata": {
        "id": "6YCT3i7juVBK"
      }
    },
    {
      "cell_type": "code",
      "source": [
        "print(df.groupby(['Loan_Status'])['Married'].count())\n",
        "df.groupby(['Loan_Status'])['Married'].count().plot(kind=\"pie\")\n",
        "plt.title(\"Loan Status\", size=20)\n",
        "plt.legend(loc=\"lower right\",labels=[\"Not Narried\", \"Married\"])\n",
        "plt.show()"
      ],
      "metadata": {
        "colab": {
          "base_uri": "https://localhost:8080/",
          "height": 338
        },
        "id": "sXXr1musubMz",
        "outputId": "9326c226-e578-4f60-a146-04d6e8caa7dc"
      },
      "execution_count": 178,
      "outputs": [
        {
          "output_type": "stream",
          "name": "stdout",
          "text": [
            "Loan_Status\n",
            "N    192\n",
            "Y    422\n",
            "Name: Married, dtype: int64\n"
          ]
        },
        {
          "output_type": "display_data",
          "data": {
            "text/plain": [
              "<Figure size 432x288 with 1 Axes>"
            ],
            "image/png": "[encoded data removed]"
          },
          "metadata": {}
        }
      ]
    },
    {
      "cell_type": "markdown",
      "source": [
        "#### Grouping Number of people by Number of Dependents"
      ],
      "metadata": {
        "id": "0BB_n0d2umyL"
      }
    },
    {
      "cell_type": "code",
      "source": [
        "sns.countplot(x='Dependents', data=df, palette='Set1')"
      ],
      "metadata": {
        "colab": {
          "base_uri": "https://localhost:8080/",
          "height": 296
        },
        "id": "ZG3cn5GmupYw",
        "outputId": "2aceed14-7201-432f-d49f-def91b072cbd"
      },
      "execution_count": 179,
      "outputs": [
        {
          "output_type": "execute_result",
          "data": {
            "text/plain": [
              "<matplotlib.axes._subplots.AxesSubplot at 0x7fe3b4fc8450>"
            ]
          },
          "metadata": {},
          "execution_count": 179
        },
        {
          "output_type": "display_data",
          "data": {
            "text/plain": [
              "<Figure size 432x288 with 1 Axes>"
            ],
            "image/png": "[encoded data removed]"
          },
          "metadata": {
            "needs_background": "light"
          }
        }
      ]
    },
    {
      "cell_type": "markdown",
      "source": [
        "#### Grouping Number of people by Employment type"
      ],
      "metadata": {
        "id": "ZwhzPfQ5uy2d"
      }
    },
    {
      "cell_type": "code",
      "source": [
        "sns.countplot(x='Self_Employed', data=df, palette='Set1')"
      ],
      "metadata": {
        "colab": {
          "base_uri": "https://localhost:8080/",
          "height": 297
        },
        "id": "yhcWWtATu28P",
        "outputId": "a99e1cbf-c88e-487d-8bf2-adc78b937781"
      },
      "execution_count": 180,
      "outputs": [
        {
          "output_type": "execute_result",
          "data": {
            "text/plain": [
              "<matplotlib.axes._subplots.AxesSubplot at 0x7fe3b4fa9090>"
            ]
          },
          "metadata": {},
          "execution_count": 180
        },
        {
          "output_type": "display_data",
          "data": {
            "text/plain": [
              "<Figure size 432x288 with 1 Axes>"
            ],
            "image/png": "[encoded data removed]"
          },
          "metadata": {
            "needs_background": "light"
          }
        }
      ]
    },
    {
      "cell_type": "markdown",
      "source": [
        "#### Splitting our dataset into Training and Test"
      ],
      "metadata": {
        "id": "hswxRMjQ_-Kw"
      }
    },
    {
      "cell_type": "code",
      "source": [
        "from sklearn.model_selection import train_test_split\n",
        "X_train, X_test, y_train, y_test = train_test_split(X, y, test_size=0.2, random_state=0)\n",
        "\n",
        "from sklearn.preprocessing import LabelEncoder, StandardScaler\n",
        "LabelEncoder_x = LabelEncoder()\n",
        "LabelEncoder_y = LabelEncoder()"
      ],
      "metadata": {
        "id": "4kr2BDNq7aqg"
      },
      "execution_count": 181,
      "outputs": []
    },
    {
      "cell_type": "markdown",
      "source": [
        "#### Tranforming the categorical data into numerical encodings & Scaling the data accordingly"
      ],
      "metadata": {
        "id": "84_B9iP3AHcL"
      }
    },
    {
      "cell_type": "code",
      "source": [
        "for i in range(0, 5):\n",
        "  X_train[:,i] = LabelEncoder_x.fit_transform(X_train[:,i])\n",
        "  X_train[:,7] = LabelEncoder_x.fit_transform(X_train[:,7])\n",
        "  X_test[:,i] = LabelEncoder_x.fit_transform(X_test[:,i])\n",
        "  X_test[:,7] = LabelEncoder_x.fit_transform(X_test[:,7])\n",
        "\n",
        "y_train = LabelEncoder_y.fit_transform(y_train)\n",
        "y_test = LabelEncoder_y.fit_transform(y_test)\n",
        "\n",
        "ss = StandardScaler()\n",
        "X_train = ss.fit_transform(X_train)\n",
        "X_test = ss.fit_transform(X_test)"
      ],
      "metadata": {
        "id": "irIsboiD-CPP"
      },
      "execution_count": 182,
      "outputs": []
    },
    {
      "cell_type": "markdown",
      "source": [
        "#### Logistic Regression Method"
      ],
      "metadata": {
        "id": "wgjkqfjCbu3O"
      }
    },
    {
      "cell_type": "code",
      "source": [
        "from sklearn.linear_model import LogisticRegression\n",
        "lr = LogisticRegression()\n",
        "lr.fit(X_train, y_train)\n",
        "y_pred = lr.predict(X_test)\n",
        "print(f\"Accuracy is: {metrics.accuracy_score(y_pred, y_test)}\")"
      ],
      "metadata": {
        "colab": {
          "base_uri": "https://localhost:8080/"
        },
        "id": "7HaefHTxbxPd",
        "outputId": "8c40bfdf-e5f4-4891-e98b-90f53cc0abd4"
      },
      "execution_count": 187,
      "outputs": [
        {
          "output_type": "stream",
          "name": "stdout",
          "text": [
            "Accuracy is: 0.8130081300813008\n"
          ]
        }
      ]
    },
    {
      "cell_type": "markdown",
      "source": [
        "#### K- Nearest neighbors Classifier Method"
      ],
      "metadata": {
        "id": "L6NGoYoRI3Kf"
      }
    },
    {
      "cell_type": "code",
      "source": [
        "from sklearn.neighbors import KNeighborsClassifier\n",
        "knn = KNeighborsClassifier()\n",
        "knn.fit(X_train, y_train)\n",
        "y_pred = knn.predict(X_test)\n",
        "print(f\"Accuracy is: {metrics.accuracy_score(y_pred, y_test)}\")"
      ],
      "metadata": {
        "colab": {
          "base_uri": "https://localhost:8080/"
        },
        "id": "pQc7zop5JNNQ",
        "outputId": "20adb387-1e56-48f8-e735-24720ea0df14"
      },
      "execution_count": 183,
      "outputs": [
        {
          "output_type": "stream",
          "name": "stdout",
          "text": [
            "Accuracy is: 0.7967479674796748\n"
          ]
        }
      ]
    },
    {
      "cell_type": "markdown",
      "source": [
        "#### Gradient Booster Classifier Method"
      ],
      "metadata": {
        "id": "L3w1gIXFcZtt"
      }
    },
    {
      "cell_type": "code",
      "source": [
        "from sklearn.ensemble import GradientBoostingClassifier\n",
        "gb = GradientBoostingClassifier(random_state=0)\n",
        "gb.fit(X_train, y_train)\n",
        "y_pred = gb.predict(X_test)\n",
        "print(f\"Accuracy is: {metrics.accuracy_score(y_pred, y_test)}\")"
      ],
      "metadata": {
        "colab": {
          "base_uri": "https://localhost:8080/"
        },
        "id": "lwhx_H0Ycduj",
        "outputId": "c379f5ee-bf2a-453c-d2a0-2be5d1492835"
      },
      "execution_count": 188,
      "outputs": [
        {
          "output_type": "stream",
          "name": "stdout",
          "text": [
            "Accuracy is: 0.7235772357723578\n"
          ]
        }
      ]
    },
    {
      "cell_type": "markdown",
      "source": [
        "#### Random Forest Classifier Method"
      ],
      "metadata": {
        "id": "QAEXxzQjC9gV"
      }
    },
    {
      "cell_type": "code",
      "source": [
        "from sklearn.ensemble import RandomForestClassifier\n",
        "rf = RandomForestClassifier()\n",
        "rf.fit(X_train, y_train)\n",
        "y_pred = rf.predict(X_test)\n",
        "print(f\"Accuracy is: {metrics.accuracy_score(y_pred, y_test)}\")"
      ],
      "metadata": {
        "colab": {
          "base_uri": "https://localhost:8080/"
        },
        "id": "JIe8Ab3S-TlX",
        "outputId": "2b056175-d108-4282-e31b-7c5253b1be0e"
      },
      "execution_count": 184,
      "outputs": [
        {
          "output_type": "stream",
          "name": "stdout",
          "text": [
            "Accuracy is: 0.7317073170731707\n"
          ]
        }
      ]
    },
    {
      "cell_type": "markdown",
      "source": [
        "#### Naive Bayes Classifier Method"
      ],
      "metadata": {
        "id": "NBzYdZL6GLCS"
      }
    },
    {
      "cell_type": "code",
      "source": [
        "from sklearn.naive_bayes import GaussianNB\n",
        "nb = GaussianNB()\n",
        "nb.fit(X_train, y_train)\n",
        "y_pred = nb.predict(X_test)\n",
        "print(f\"Accuracy is: {metrics.accuracy_score(y_pred, y_test)}\")"
      ],
      "metadata": {
        "colab": {
          "base_uri": "https://localhost:8080/"
        },
        "id": "l4RVO0lTFsbh",
        "outputId": "93d25321-fd8f-4f63-d0d8-cc2c147d90ca"
      },
      "execution_count": 185,
      "outputs": [
        {
          "output_type": "stream",
          "name": "stdout",
          "text": [
            "Accuracy is: 0.8130081300813008\n"
          ]
        }
      ]
    },
    {
      "cell_type": "markdown",
      "source": [
        "#### Decision Tree Classifier Method"
      ],
      "metadata": {
        "id": "OR_PSZQRGvdh"
      }
    },
    {
      "cell_type": "code",
      "source": [
        "from sklearn.tree import DecisionTreeClassifier\n",
        "dt = DecisionTreeClassifier()\n",
        "dt.fit(X_train, y_train)\n",
        "y_pred = dt.predict(X_test)\n",
        "print(f\"Accuracy is: {metrics.accuracy_score(y_pred, y_test)}\")"
      ],
      "metadata": {
        "colab": {
          "base_uri": "https://localhost:8080/"
        },
        "id": "w8B-AnQ2H9cN",
        "outputId": "89ef4b65-7a30-4e93-daff-574ee4b7e7f4"
      },
      "execution_count": 186,
      "outputs": [
        {
          "output_type": "stream",
          "name": "stdout",
          "text": [
            "Accuracy is: 0.6504065040650406\n"
          ]
        }
      ]
    }
  ]
}